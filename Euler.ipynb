{
 "cells": [
  {
   "cell_type": "markdown",
   "metadata": {},
   "source": [
    "# Project Euler solutions"
   ]
  },
  {
   "cell_type": "markdown",
   "metadata": {},
   "source": [
    "Problem 1"
   ]
  },
  {
   "cell_type": "code",
   "execution_count": 3,
   "metadata": {},
   "outputs": [
    {
     "name": "stdout",
     "output_type": "stream",
     "text": [
      "233168\n"
     ]
    }
   ],
   "source": [
    "empty = []\n",
    "\n",
    "for j in range(3,1000):\n",
    "    if j % 3 == 0 or j % 5 == 0:\n",
    "        empty.append(j)\n",
    "    \n",
    "print(sum(empty))"
   ]
  },
  {
   "cell_type": "markdown",
   "metadata": {},
   "source": [
    "Problem 3, not immediately clear that 6857 is the LARGEST prime factor"
   ]
  },
  {
   "cell_type": "code",
   "execution_count": 17,
   "metadata": {},
   "outputs": [
    {
     "name": "stdout",
     "output_type": "stream",
     "text": [
      "71\n",
      "839\n",
      "1471\n",
      "6857\n"
     ]
    }
   ],
   "source": [
    "for j in range(2,10000):\n",
    "    i = 2\n",
    "    counter = 0\n",
    "    while i < j:\n",
    "        if j % i == 0:\n",
    "            counter = counter + 1\n",
    "            i = i + 1\n",
    "        else:\n",
    "            i = i + 1\n",
    "    if counter == 0 and 600851475143 % j == 0:\n",
    "        print(j)"
   ]
  },
  {
   "cell_type": "code",
   "execution_count": 21,
   "metadata": {},
   "outputs": [
    {
     "data": {
      "text/plain": [
       "1.0"
      ]
     },
     "execution_count": 21,
     "metadata": {},
     "output_type": "execute_result"
    }
   ],
   "source": [
    "600851475143 / (6857 * 1471 * 839 * 71)"
   ]
  },
  {
   "cell_type": "markdown",
   "metadata": {},
   "source": [
    "Problem 5, can be much more efficient"
   ]
  },
  {
   "cell_type": "code",
   "execution_count": 1,
   "metadata": {},
   "outputs": [
    {
     "name": "stdout",
     "output_type": "stream",
     "text": [
      "232792560\n",
      "465585120\n",
      "698377680\n",
      "931170240\n"
     ]
    }
   ],
   "source": [
    "for j in range(20,1000000000,20):\n",
    "        i = 11\n",
    "        counter = 0\n",
    "        while i <= 20:\n",
    "            if j % i != 0:\n",
    "                counter = counter + 1\n",
    "                i = i + 1\n",
    "            else:\n",
    "                i = i + 1\n",
    "        if counter == 0:\n",
    "            print(j)"
   ]
  },
  {
   "cell_type": "markdown",
   "metadata": {},
   "source": [
    "Problem 7, can be much more efficient"
   ]
  },
  {
   "cell_type": "code",
   "execution_count": 2,
   "metadata": {
    "collapsed": true
   },
   "outputs": [],
   "source": [
    "empty = []\n",
    "\n",
    "def prime(x):\n",
    "    for j in range(3,x,2):\n",
    "        i = 3\n",
    "        counter = 0\n",
    "        while i < j:\n",
    "            if j % i == 0:\n",
    "                counter = 1\n",
    "                break\n",
    "            else:\n",
    "                i = i + 2\n",
    "        if counter == 0:\n",
    "            empty.append(j)\n",
    "    return empty[9999]"
   ]
  },
  {
   "cell_type": "code",
   "execution_count": 3,
   "metadata": {},
   "outputs": [
    {
     "data": {
      "text/plain": [
       "104743"
      ]
     },
     "execution_count": 3,
     "metadata": {},
     "output_type": "execute_result"
    }
   ],
   "source": [
    "prime(200000)"
   ]
  },
  {
   "cell_type": "code",
   "execution_count": null,
   "metadata": {
    "collapsed": true
   },
   "outputs": [],
   "source": []
  }
 ],
 "metadata": {
  "kernelspec": {
   "display_name": "Python 3",
   "language": "python",
   "name": "python3"
  },
  "language_info": {
   "codemirror_mode": {
    "name": "ipython",
    "version": 3
   },
   "file_extension": ".py",
   "mimetype": "text/x-python",
   "name": "python",
   "nbconvert_exporter": "python",
   "pygments_lexer": "ipython3",
   "version": "3.6.1"
  }
 },
 "nbformat": 4,
 "nbformat_minor": 2
}
